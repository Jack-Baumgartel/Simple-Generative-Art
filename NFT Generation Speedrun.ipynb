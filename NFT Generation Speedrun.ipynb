{
 "cells": [
  {
   "cell_type": "code",
   "execution_count": 33,
   "metadata": {},
   "outputs": [],
   "source": [
    "import matplotlib.pyplot as plt\n",
    "import random\n",
    "from matplotlib.patches import Rectangle, Circle\n",
    "import matplotlib.colors as mcolors\n"
   ]
  },
  {
   "cell_type": "code",
   "execution_count": 38,
   "metadata": {},
   "outputs": [],
   "source": [
    "def set_bg_color(fig, color):\n",
    "    fig.set_facecolor(color)\n",
    "    \n",
    "def add_rect(ax, color):\n",
    "    width = random.random()\n",
    "    height = random.random()\n",
    "    x = random.random()\n",
    "    y = random.random()\n",
    "    \n",
    "    rect = Rectangle((x,y),width,height,fc=color)\n",
    "    ax.add_patch(rect)\n",
    "    \n",
    "def add_circle(ax, color):\n",
    "    x = random.random()\n",
    "    y = random.random()\n",
    "    radius = random.random()/2\n",
    "    \n",
    "    circle = Circle((x,y), radius=radius, fc=color)\n",
    "    ax.add_patch(circle)\n",
    "    \n",
    "def add_line(ax, color):\n",
    "    x1 = random.random()\n",
    "    x2 = random.random()\n",
    "    y1 = random.random()\n",
    "    y2 = random.random()\n",
    "    lw = random.random()*10\n",
    "    \n",
    "    ax.plot([x1,x2],[y1,y2], color=color, lw=lw)"
   ]
  },
  {
   "cell_type": "code",
   "execution_count": null,
   "metadata": {},
   "outputs": [],
   "source": []
  },
  {
   "cell_type": "code",
   "execution_count": 43,
   "metadata": {},
   "outputs": [],
   "source": [
    "def NFT_minter(n_mints, pixels):\n",
    "    color_names = list(mcolors.CSS4_COLORS)\n",
    "    colors = mcolors.CSS4_COLORS\n",
    "    \n",
    "    min_items = 1\n",
    "    max_items = 5\n",
    "    \n",
    "    for i in range(n_mints):\n",
    "        fig = plt.figure(figsize=(5,5))\n",
    "        ax = fig.add_axes([0,0,1,1])\n",
    "        ax.axis('off')\n",
    "        ax.margins(0,0)\n",
    "        ax.set_ylim(0,1)\n",
    "        ax.set_xlim(0,1)\n",
    "        \n",
    "        bg_color = random.sample(color_names,1)[0]\n",
    "        set_bg_color(fig,colors[bg_color])\n",
    "        \n",
    "        for color in random.sample(color_names, random.randint(min_items,max_items)):\n",
    "            add_rect(ax, colors[color])\n",
    "        for color in random.sample(color_names, random.randint(min_items,max_items)):\n",
    "            add_circle(ax, colors[color])\n",
    "        for color in random.sample(color_names, random.randint(min_items,max_items)):\n",
    "            add_line(ax, colors[color])\n",
    "            \n",
    "            \n",
    "        fig.savefig(f'Media/NFT-{i}.png', dpi = pixels/5)\n",
    "        plt.close();"
   ]
  },
  {
   "cell_type": "code",
   "execution_count": 45,
   "metadata": {},
   "outputs": [],
   "source": [
    "NFT_minter(10, 10000)"
   ]
  },
  {
   "cell_type": "code",
   "execution_count": null,
   "metadata": {},
   "outputs": [],
   "source": []
  },
  {
   "cell_type": "code",
   "execution_count": null,
   "metadata": {},
   "outputs": [],
   "source": []
  },
  {
   "cell_type": "code",
   "execution_count": null,
   "metadata": {},
   "outputs": [],
   "source": []
  },
  {
   "cell_type": "code",
   "execution_count": null,
   "metadata": {},
   "outputs": [],
   "source": []
  },
  {
   "cell_type": "code",
   "execution_count": null,
   "metadata": {},
   "outputs": [],
   "source": []
  },
  {
   "cell_type": "code",
   "execution_count": null,
   "metadata": {},
   "outputs": [],
   "source": []
  }
 ],
 "metadata": {
  "kernelspec": {
   "display_name": "Python 3",
   "language": "python",
   "name": "python3"
  },
  "language_info": {
   "codemirror_mode": {
    "name": "ipython",
    "version": 3
   },
   "file_extension": ".py",
   "mimetype": "text/x-python",
   "name": "python",
   "nbconvert_exporter": "python",
   "pygments_lexer": "ipython3",
   "version": "3.8.5"
  }
 },
 "nbformat": 4,
 "nbformat_minor": 4
}
